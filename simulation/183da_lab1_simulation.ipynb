{
  "nbformat": 4,
  "nbformat_minor": 0,
  "metadata": {
    "colab": {
      "name": "183da_lab1_simulation.ipynb",
      "provenance": []
    },
    "kernelspec": {
      "name": "python3",
      "display_name": "Python 3"
    }
  },
  "cells": [
    {
      "cell_type": "markdown",
      "metadata": {
        "id": "lKfCJQsejAt6",
        "colab_type": "text"
      },
      "source": [
        "\n",
        "Simulation test \n",
        " * The robot moves forward till it is within 10 cm of the wall\n",
        " * Then if there is room to the right, it'll turn right and try to drive forward\n",
        " * The test ends after peforming this right turn manuvere. \n",
        " * In other words, the test is to see how well it can turn right after hitting an obstacle. \n",
        " "
      ]
    },
    {
      "cell_type": "code",
      "metadata": {
        "id": "BDgwjIiol6RU",
        "colab_type": "code",
        "colab": {}
      },
      "source": [
        "from google.colab import drive\n",
        "drive.mount('drive')"
      ],
      "execution_count": 0,
      "outputs": []
    },
    {
      "cell_type": "code",
      "metadata": {
        "id": "F8fBVEAUi-x0",
        "colab_type": "code",
        "colab": {
          "base_uri": "https://localhost:8080/",
          "height": 833
        },
        "outputId": "ab3282a8-96da-4da3-afa8-401414651e46"
      },
      "source": [
        "import numpy as np\n",
        "import math\n",
        "import matplotlib.pyplot as plt\n",
        "\n",
        "# rpm max is taken from the documentation on the servos \n",
        "# this is for no load 4.8v which we are taking as 'ideal'\n",
        "rpm_max = 110; \n",
        "# diameter of robot wheel measured in m \n",
        "diameter = 0.04 \n",
        "# thereotical linear velocity in m/s\n",
        "velocity = rpm_max*diameter*(1/60)\n",
        "\n",
        "real_velocity = 0.075\n",
        "\n",
        "\n",
        "# calculations for simulating moving forward \n",
        "forward_distance = 0.40; \n",
        "begin_time = 0; \n",
        "end_time = forward_distance*(1/velocity) \n",
        "end_time_real = forward_distance*(1/real_velocity)\n",
        "print(end_time)\n",
        "print(\"real end time\")\n",
        "print(end_time_real)\n",
        "forward_time_array = np.linspace(0, 5, 11)\n",
        "r_forward_time_array = np.linspace(0,5,11)\n",
        "forward_time_array = np.append(forward_time_array, end_time)\n",
        "r_forward_time_array = np.append(r_forward_time_array, end_time_real)\n",
        "forward_x_array = [0,0,0,0,0,0,0,0,0,0,0,0]\n",
        "r_forward_x_array = [0,0.03,0.04,0.06,0.06,0.07,0.07,0.08,0.08,0.09,0.01,0.01]\n",
        "forward_y_array = forward_time_array*velocity\n",
        "r_forward_y_array = r_forward_time_array*real_velocity\n",
        "print(forward_x_array)\n",
        "print(forward_time_array)\n",
        "print(forward_y_array)\n",
        "\n",
        "\n",
        "width = 6 \n",
        "VR = 0\n",
        "VL = velocity \n",
        "theta = abs((VR-VL)/width)\n",
        "print(theta)\n",
        "theta = math.radians(theta)\n",
        "\n",
        "arclength = (VR+VL)/2\n",
        "\n",
        "start_x = 0\n",
        "start_y = forward_y_array[11]\n",
        "\n",
        "r_theta = 8.5793\n",
        "math.radians(r_theta)\n",
        "r_theta = 0.1497\n",
        "\n",
        "#total distance to the wall at a right angle \n",
        "t_d_w = .40 \n",
        "end_z = (t_d_w-.10*math.cos(theta))\n",
        "end_x = t_d_w-.10*math.cos(theta)\n",
        "end_y = math.sin(theta)*end_z\n",
        "print(end_x)\n",
        "print(end_y)\n",
        "print(end_z)\n",
        "\n",
        "\n",
        "r_end_x = t_d_w-.10*math.cos(r_theta)\n",
        "r_end_y = math.sin(r_theta)*r_end_z\n",
        "r_end_z_time = ((0.4/0.405)-.10)*(1/real_velocity)\n",
        "r_trans_time_c = np.linspace(0, 4, 9)\n",
        "r_trans_time = np.linspace(0+end_time_real, 4+end_time_real, 9)\n",
        "r_trans_time = np.append(trans_time, r_end_z_time+end_time_real)\n",
        "r_trans_z = r_trans_time_c*real_velocity\n",
        "r_trans_x = math.cos(r_theta)*r_trans_z \n",
        "r_trans_y = math.sin(r_theta)*r_trans_z\n",
        "\n",
        "end_z_time = (t_d_w-.10)*(1/velocity)\n",
        "print(end_z_time)\n",
        "trans_time_c = np.linspace(0, 4, 9)\n",
        "trans_time = np.linspace(0+end_time, 4+end_time, 9)\n",
        "trans_time = np.append(trans_time, end_z_time+end_time)\n",
        "trans_z = trans_time_c*velocity\n",
        "print(trans_time)\n",
        "print(trans_z)\n",
        "trans_x = math.cos(theta)*trans_z \n",
        "trans_y = math.sin(theta)*trans_z\n",
        "print(trans_x)\n",
        "print(trans_y)\n",
        "\n",
        "total_x = np.append(forward_x_array,trans_x)\n",
        "total_y = np.append(forward_y_array,(forward_y_array[11]-trans_y))\n",
        "\n",
        "r_total_x = np.append(r_forward_x_array,r_trans_x)\n",
        "r_total_y = np.append(r_forward_y_array,(r_forward_y_array[11]-r_trans_y))\n",
        "\n",
        "print(\"elephant\")\n",
        "print(r_forward_x_array)\n",
        "print(r_trans_x)\n",
        "print(r_total_x)\n",
        "\n",
        "\n",
        "r_total_x_adjusted = np.delete(r_total_x, 10)\n",
        "r_total_y_adjusted = np.delete(r_total_y, 10)\n",
        "r_total_x_adjusted = np.delete(r_total_x_adjusted, 10)\n",
        "r_total_y_adjusted = np.delete(r_total_y_adjusted, 10)\n",
        "r_total_x_adjusted = np.delete(r_total_x_adjusted, 10)\n",
        "r_total_y_adjusted = np.delete(r_total_y_adjusted, 10)\n",
        "r_total_x_adjusted = np.delete(r_total_x_adjusted, 10)\n",
        "r_total_y_adjusted = np.delete(r_total_y_adjusted, 10)\n",
        "r_total_x_adjusted = np.delete(r_total_x_adjusted, 10)\n",
        "r_total_y_adjusted = np.delete(r_total_y_adjusted, 10)\n",
        "\n",
        "\n",
        "\n",
        "\n",
        "\n",
        "plt.scatter(total_x, total_y, label=\"simulated\")\n",
        "plt.scatter(r_total_x_adjusted, r_total_y_adjusted, color='red', label=\"real life\")\n",
        "\n",
        "\n",
        "\n",
        "plt.title(\"Position of Simulator vs Real Life Robot\")\n",
        "plt.xlabel(\"Distance from origin to east (m)\")\n",
        "plt.ylabel(\"Distance from origin to north (m)\")\n",
        "plt.legend()\n",
        "\n",
        "\n",
        "\n",
        "\n"
      ],
      "execution_count": 76,
      "outputs": [
        {
          "output_type": "stream",
          "text": [
            "5.454545454545455\n",
            "real end time\n",
            "5.333333333333334\n",
            "[0, 0, 0, 0, 0, 0, 0, 0, 0, 0, 0, 0]\n",
            "[0.         0.5        1.         1.5        2.         2.5\n",
            " 3.         3.5        4.         4.5        5.         5.45454545]\n",
            "[0.         0.03666667 0.07333333 0.11       0.14666667 0.18333333\n",
            " 0.22       0.25666667 0.29333333 0.33       0.36666667 0.4       ]\n",
            "0.012222222222222223\n",
            "0.3000000022752289\n",
            "6.399540590645875e-05\n",
            "0.3000000022752289\n",
            "4.090909090909092\n",
            "[5.45454545 5.95454545 6.45454545 6.95454545 7.45454545 7.95454545\n",
            " 8.45454545 8.95454545 9.45454545 9.54545455]\n",
            "[0.         0.03666667 0.07333333 0.11       0.14666667 0.18333333\n",
            " 0.22       0.25666667 0.29333333]\n",
            "[0.         0.03666667 0.07333333 0.11       0.14666666 0.18333333\n",
            " 0.21999999 0.25666666 0.29333333]\n",
            "[0.00000000e+00 7.82166066e-06 1.56433213e-05 2.34649820e-05\n",
            " 3.12866427e-05 3.91083033e-05 4.69299640e-05 5.47516246e-05\n",
            " 6.25732853e-05]\n",
            "elephant\n",
            "[0, 0.03, 0.04, 0.06, 0.06, 0.07, 0.07, 0.08, 0.08, 0.09, 0.01, 0.01]\n",
            "[0.         0.03708059 0.07416119 0.11124178 0.14832238 0.18540297\n",
            " 0.22248357 0.25956416 0.29664476]\n",
            "[0.         0.03       0.04       0.06       0.06       0.07\n",
            " 0.07       0.08       0.08       0.09       0.01       0.01\n",
            " 0.         0.03708059 0.07416119 0.11124178 0.14832238 0.18540297\n",
            " 0.22248357 0.25956416 0.29664476]\n"
          ],
          "name": "stdout"
        },
        {
          "output_type": "execute_result",
          "data": {
            "text/plain": [
              "<matplotlib.legend.Legend at 0x7f07adc66860>"
            ]
          },
          "metadata": {
            "tags": []
          },
          "execution_count": 76
        },
        {
          "output_type": "display_data",
          "data": {
            "image/png": "[encoded data removed]",
            "text/plain": [
              "<Figure size 432x288 with 1 Axes>"
            ]
          },
          "metadata": {
            "tags": []
          }
        }
      ]
    },
    {
      "cell_type": "markdown",
      "metadata": {
        "id": "6YTIUyKYJfUS",
        "colab_type": "text"
      },
      "source": [
        ""
      ]
    },
    {
      "cell_type": "code",
      "metadata": {
        "id": "NETWUGewGZ2X",
        "colab_type": "code",
        "colab": {
          "base_uri": "https://localhost:8080/",
          "height": 313
        },
        "outputId": "af80994c-9619-40aa-f70d-f4bb8f70ac93"
      },
      "source": [
        "plt.axhline(y=velocity, color='g', label='simulated')\n",
        "yvr = [real_velocity, real_velocity, real_velocity, \n",
        "       real_velocity*0.9737, real_velocity*0.382, 0,\n",
        "       real_velocity*0.2291, real_velocity*0.78291, real_velocity*0.9273, real_velocity, real_velocity]\n",
        "\n",
        "xt = np.linspace(0, np.size(yvr)-1, np.size(yvr))\n",
        "plt.plot(xt, yvr, label='real life')\n",
        "\n",
        "plt.title(\"Simulated and Robot Velocities During Trial\")\n",
        "plt.xlabel(\"Time (s)\")\n",
        "plt.ylabel(\"Velocity (m/s)\")\n",
        "plt.legend()"
      ],
      "execution_count": 88,
      "outputs": [
        {
          "output_type": "execute_result",
          "data": {
            "text/plain": [
              "<matplotlib.legend.Legend at 0x7f07ad84f198>"
            ]
          },
          "metadata": {
            "tags": []
          },
          "execution_count": 88
        },
        {
          "output_type": "display_data",
          "data": {
            "image/png": "[encoded data removed]",
            "text/plain": [
              "<Figure size 432x288 with 1 Axes>"
            ]
          },
          "metadata": {
            "tags": []
          }
        }
      ]
    }
  ]
}